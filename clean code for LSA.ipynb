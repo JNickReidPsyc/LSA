{
 "cells": [
  {
   "cell_type": "code",
   "execution_count": 8,
   "id": "263fccd2",
   "metadata": {},
   "outputs": [],
   "source": [
    "import string\n",
    "import numpy as np\n",
    "import random\n",
    "import nltk\n",
    "import csv\n",
    "import time\n",
    "from sklearn.decomposition import TruncatedSVD"
   ]
  },
  {
   "cell_type": "code",
   "execution_count": 9,
   "id": "3a0ff0f7",
   "metadata": {},
   "outputs": [],
   "source": [
    "import scipy.stats"
   ]
  },
  {
   "cell_type": "code",
   "execution_count": 10,
   "id": "10281c58",
   "metadata": {},
   "outputs": [],
   "source": [
    "def strip_punctuation(x):\n",
    "    x = [i for i in x if i not in string.punctuation]\n",
    "    x = ''.join(x)\n",
    "    return x"
   ]
  },
  {
   "cell_type": "code",
   "execution_count": 11,
   "id": "3fcb36b3",
   "metadata": {},
   "outputs": [],
   "source": [
    "def sel_second(x):\n",
    "    return x[1]"
   ]
  },
  {
   "cell_type": "code",
   "execution_count": 12,
   "id": "7ad007d2",
   "metadata": {},
   "outputs": [],
   "source": [
    "def normalize_vec(vec):\n",
    "    if np.sum(vec**2) > 0:\n",
    "        sq_vec = vec**2\n",
    "        sum_sq = np.sum(sq_vec)\n",
    "        mag = np.sqrt(sum_sq)\n",
    "        normed_vec = vec / mag\n",
    "    else:\n",
    "        normed_vec = vec.copy()\n",
    "    return normed_vec"
   ]
  },
  {
   "cell_type": "code",
   "execution_count": 13,
   "id": "6e7353eb",
   "metadata": {},
   "outputs": [],
   "source": [
    "def normalize_matrix(mat):\n",
    "    sq_mat = mat**2\n",
    "    sum_sq = np.sum(sq_mat, axis=1)\n",
    "    mag = np.sqrt(sum_sq)\n",
    "    normed_mat = np.transpose((np.transpose(mat) / mag))\n",
    "    return normed_mat"
   ]
  },
  {
   "cell_type": "code",
   "execution_count": 14,
   "id": "554ecbc8",
   "metadata": {},
   "outputs": [],
   "source": [
    "def find_neighbors(word, dic, mat, n=20):\n",
    "    cos_sim = normalize_vec(mat[dic[word]]) @ np.transpose(normalize_matrix(mat))\n",
    "    cos_sim = list(zip([i for i in dic], cos_sim))\n",
    "    cos_sim.sort(key = sel_second, reverse=True)\n",
    "    return cos_sim[1:(n+1)]"
   ]
  },
  {
   "cell_type": "markdown",
   "id": "6e988ac0",
   "metadata": {},
   "source": [
    "Train LSA"
   ]
  },
  {
   "cell_type": "code",
   "execution_count": 108,
   "id": "09517f0e",
   "metadata": {},
   "outputs": [],
   "source": [
    "import string\n",
    "import numpy as np\n",
    "import time\n",
    "from sklearn.decomposition import TruncatedSVD"
   ]
  },
  {
   "cell_type": "code",
   "execution_count": 109,
   "id": "7459a74f",
   "metadata": {},
   "outputs": [],
   "source": [
    "with open('tasaSentDocs.txt') as f:\n",
    "    df = f.read()"
   ]
  },
  {
   "cell_type": "code",
   "execution_count": 110,
   "id": "3a2cf744",
   "metadata": {},
   "outputs": [],
   "source": [
    "doc_df = df.split(\" \\n\\n\")"
   ]
  },
  {
   "cell_type": "code",
   "execution_count": 111,
   "id": "4176c0b8",
   "metadata": {},
   "outputs": [],
   "source": [
    "# get documents as lists of words\n",
    "cleaned_df = []\n",
    "all_words = []\n",
    "for i in doc_df:\n",
    "    cleaned_doc = i.replace('\\n', '')\n",
    "    cleaned_doc = cleaned_doc.split(' ')\n",
    "    cleaned_doc = [strip_punctuation(i) for i in cleaned_doc]\n",
    "    cleaned_doc = [i.lower() for i in cleaned_doc if i!='']\n",
    "    if len(cleaned_doc)>0:\n",
    "        cleaned_df.append(cleaned_doc)\n",
    "        all_words.extend(cleaned_doc)"
   ]
  },
  {
   "cell_type": "code",
   "execution_count": 112,
   "id": "bed9d05c",
   "metadata": {},
   "outputs": [
    {
     "data": {
      "text/plain": [
       "37639"
      ]
     },
     "execution_count": 112,
     "metadata": {},
     "output_type": "execute_result"
    }
   ],
   "source": [
    "len(cleaned_df)"
   ]
  },
  {
   "cell_type": "code",
   "execution_count": 113,
   "id": "8cd24d02",
   "metadata": {},
   "outputs": [],
   "source": [
    "# find all unique words\n",
    "all_words = list(set(all_words))"
   ]
  },
  {
   "cell_type": "code",
   "execution_count": 114,
   "id": "9fed440d",
   "metadata": {},
   "outputs": [],
   "source": [
    "# dictionary to index rows of matrix based on the word\n",
    "word_dic = {}\n",
    "for i in range(0, len(all_words)):\n",
    "    word_dic[all_words[i]] = i"
   ]
  },
  {
   "cell_type": "code",
   "execution_count": 115,
   "id": "b58a6aaf",
   "metadata": {},
   "outputs": [],
   "source": [
    "# matrix of zeros\n",
    "word_matrix = np.zeros(shape=(len(all_words), len(cleaned_df)), dtype=np.float32)"
   ]
  },
  {
   "cell_type": "code",
   "execution_count": 116,
   "id": "d1e2c5e0",
   "metadata": {},
   "outputs": [],
   "source": [
    "# loop to count words in each document (constructs raw count matrix)\n",
    "for i in range(0, len(cleaned_df)):\n",
    "    for x in cleaned_df[i]:\n",
    "        word_matrix[word_dic[x]][i] += 1"
   ]
  },
  {
   "cell_type": "code",
   "execution_count": 117,
   "id": "10eac5dd",
   "metadata": {},
   "outputs": [],
   "source": [
    "# calculate entropy weights for each row\n",
    "entropy_vec = []\n",
    "for i in range(0, len(word_matrix)):\n",
    "    p_vec = word_matrix[i] / np.sum(word_matrix[i])\n",
    "    p_vec = p_vec[p_vec > 0]\n",
    "    log_entropy = 1 + np.sum((p_vec * np.log2(p_vec)) / np.log2(len(word_matrix[i])))\n",
    "    entropy_vec.append(log_entropy)"
   ]
  },
  {
   "cell_type": "code",
   "execution_count": 118,
   "id": "14354bbd",
   "metadata": {},
   "outputs": [],
   "source": [
    "# apply log transform and entropy weight\n",
    "for i in range(0, len(word_matrix)):\n",
    "    word_matrix[i] = np.log(word_matrix[i] + 1) * entropy_vec[i]"
   ]
  },
  {
   "cell_type": "code",
   "execution_count": 42,
   "id": "e8616bce",
   "metadata": {},
   "outputs": [],
   "source": [
    "# code for svd\n",
    "svd = TruncatedSVD(n_components=300, algorithm='arpack')"
   ]
  },
  {
   "cell_type": "code",
   "execution_count": 43,
   "id": "04ede2bd",
   "metadata": {},
   "outputs": [
    {
     "data": {
      "text/plain": [
       "2626.506085395813"
      ]
     },
     "execution_count": 43,
     "metadata": {},
     "output_type": "execute_result"
    }
   ],
   "source": [
    "# compute svd\n",
    "start = time.time()\n",
    "word_matrix = svd.fit_transform(word_matrix)\n",
    "end = time.time()\n",
    "end-start"
   ]
  },
  {
   "cell_type": "code",
   "execution_count": 44,
   "id": "2ff61cbe",
   "metadata": {},
   "outputs": [],
   "source": [
    "normed_matrix = normalize_matrix(word_matrix)"
   ]
  },
  {
   "cell_type": "markdown",
   "id": "26393045",
   "metadata": {},
   "source": [
    "Example from Martin and Berry"
   ]
  },
  {
   "cell_type": "code",
   "execution_count": 81,
   "id": "211ebe21",
   "metadata": {},
   "outputs": [],
   "source": [
    "doc_df = ['music rock roll', 'demonstration drum roll', 'composition drum', 'music rock', 'composition music', 'bread demonstration roll', 'ingredients roll', 'bread dough recipe', 'dough ingredients recipe']"
   ]
  },
  {
   "cell_type": "code",
   "execution_count": 82,
   "id": "73430db8",
   "metadata": {},
   "outputs": [],
   "source": [
    "# get documents as lists of words\n",
    "cleaned_df = []\n",
    "all_words = []\n",
    "for i in doc_df:\n",
    "    cleaned_doc = i.replace('\\n', '')\n",
    "    cleaned_doc = cleaned_doc.split(' ')\n",
    "    cleaned_doc = [strip_punctuation(i) for i in cleaned_doc]\n",
    "    cleaned_doc = [i.lower() for i in cleaned_doc if i!='']\n",
    "    if len(cleaned_doc)>0:\n",
    "        cleaned_df.append(cleaned_doc)\n",
    "        all_words.extend(cleaned_doc)"
   ]
  },
  {
   "cell_type": "code",
   "execution_count": 83,
   "id": "9767536c",
   "metadata": {},
   "outputs": [],
   "source": [
    "# find all unique words\n",
    "all_words = list(set(all_words))"
   ]
  },
  {
   "cell_type": "code",
   "execution_count": 84,
   "id": "53be9542",
   "metadata": {},
   "outputs": [],
   "source": [
    "all_words.sort()"
   ]
  },
  {
   "cell_type": "code",
   "execution_count": 85,
   "id": "998cd97f",
   "metadata": {},
   "outputs": [],
   "source": [
    "# dictionary to index rows of matrix based on the word\n",
    "word_dic = {}\n",
    "for i in range(0, len(all_words)):\n",
    "    word_dic[all_words[i]] = i"
   ]
  },
  {
   "cell_type": "code",
   "execution_count": 86,
   "id": "1d39b844",
   "metadata": {},
   "outputs": [],
   "source": [
    "# matrix of zeros\n",
    "word_matrix = np.zeros(shape=(len(all_words), len(cleaned_df)), dtype=np.float32)"
   ]
  },
  {
   "cell_type": "code",
   "execution_count": 87,
   "id": "efc025dd",
   "metadata": {},
   "outputs": [],
   "source": [
    "# loop to count words in each document (constructs raw count matrix)\n",
    "for i in range(0, len(cleaned_df)):\n",
    "    for x in cleaned_df[i]:\n",
    "        word_matrix[word_dic[x]][i] += 1"
   ]
  },
  {
   "cell_type": "code",
   "execution_count": 88,
   "id": "551a2151",
   "metadata": {},
   "outputs": [
    {
     "data": {
      "text/plain": [
       "array([[0., 0., 0., 0., 0., 1., 0., 1., 0.],\n",
       "       [0., 0., 1., 0., 1., 0., 0., 0., 0.],\n",
       "       [0., 1., 0., 0., 0., 1., 0., 0., 0.],\n",
       "       [0., 0., 0., 0., 0., 0., 0., 1., 1.],\n",
       "       [0., 1., 1., 0., 0., 0., 0., 0., 0.],\n",
       "       [0., 0., 0., 0., 0., 0., 1., 0., 1.],\n",
       "       [1., 0., 0., 1., 1., 0., 0., 0., 0.],\n",
       "       [0., 0., 0., 0., 0., 0., 0., 1., 1.],\n",
       "       [1., 0., 0., 1., 0., 0., 0., 0., 0.],\n",
       "       [1., 1., 0., 0., 0., 1., 1., 0., 0.]], dtype=float32)"
      ]
     },
     "execution_count": 88,
     "metadata": {},
     "output_type": "execute_result"
    }
   ],
   "source": [
    "# Produces matrix from Martin and Berry p. 38\n",
    "word_matrix"
   ]
  },
  {
   "cell_type": "code",
   "execution_count": 89,
   "id": "fb33a400",
   "metadata": {},
   "outputs": [],
   "source": [
    "# calculate entropy weights for each row\n",
    "entropy_vec = []\n",
    "for i in range(0, len(word_matrix)):\n",
    "    p_vec = word_matrix[i] / np.sum(word_matrix[i])\n",
    "    p_vec = p_vec[p_vec > 0]\n",
    "    log_entropy = 1 + np.sum((p_vec * np.log2(p_vec)) / np.log2(len(word_matrix[i])))\n",
    "    entropy_vec.append(log_entropy)"
   ]
  },
  {
   "cell_type": "code",
   "execution_count": 90,
   "id": "21493c91",
   "metadata": {},
   "outputs": [],
   "source": [
    "# apply log transform and entropy weight\n",
    "for i in range(0, len(word_matrix)):\n",
    "    word_matrix[i] = np.log(word_matrix[i] + 1) * entropy_vec[i]"
   ]
  },
  {
   "cell_type": "code",
   "execution_count": 91,
   "id": "fcc58592",
   "metadata": {},
   "outputs": [
    {
     "data": {
      "text/plain": [
       "array([[0.       , 0.       , 0.       , 0.       , 0.       , 0.4744836,\n",
       "        0.       , 0.4744836, 0.       ],\n",
       "       [0.       , 0.       , 0.4744836, 0.       , 0.4744836, 0.       ,\n",
       "        0.       , 0.       , 0.       ],\n",
       "       [0.       , 0.4744836, 0.       , 0.       , 0.       , 0.4744836,\n",
       "        0.       , 0.       , 0.       ],\n",
       "       [0.       , 0.       , 0.       , 0.       , 0.       , 0.       ,\n",
       "        0.       , 0.4744836, 0.4744836],\n",
       "       [0.       , 0.4744836, 0.4744836, 0.       , 0.       , 0.       ,\n",
       "        0.       , 0.       , 0.       ],\n",
       "       [0.       , 0.       , 0.       , 0.       , 0.       , 0.       ,\n",
       "        0.4744836, 0.       , 0.4744836],\n",
       "       [0.3465736, 0.       , 0.       , 0.3465736, 0.3465736, 0.       ,\n",
       "        0.       , 0.       , 0.       ],\n",
       "       [0.       , 0.       , 0.       , 0.       , 0.       , 0.       ,\n",
       "        0.       , 0.4744836, 0.4744836],\n",
       "       [0.4744836, 0.       , 0.       , 0.4744836, 0.       , 0.       ,\n",
       "        0.       , 0.       , 0.       ],\n",
       "       [0.25582  , 0.25582  , 0.       , 0.       , 0.       , 0.25582  ,\n",
       "        0.25582  , 0.       , 0.       ]], dtype=float32)"
      ]
     },
     "execution_count": 91,
     "metadata": {},
     "output_type": "execute_result"
    }
   ],
   "source": [
    "# Produces weighted matrix from Martin and Berry p. 39\n",
    "word_matrix"
   ]
  },
  {
   "cell_type": "code",
   "execution_count": 92,
   "id": "4a0cd322",
   "metadata": {},
   "outputs": [],
   "source": [
    "# code for svd\n",
    "svd = TruncatedSVD(n_components=2, algorithm='arpack')"
   ]
  },
  {
   "cell_type": "code",
   "execution_count": 93,
   "id": "0847c470",
   "metadata": {},
   "outputs": [
    {
     "data": {
      "text/plain": [
       "0.0009722709655761719"
      ]
     },
     "execution_count": 93,
     "metadata": {},
     "output_type": "execute_result"
    }
   ],
   "source": [
    "# compute svd short way (directly outputs reduced matrix)\n",
    "start = time.time()\n",
    "reduced_mat_short = svd.fit_transform(word_matrix)\n",
    "end = time.time()\n",
    "end-start"
   ]
  },
  {
   "cell_type": "code",
   "execution_count": 94,
   "id": "1e4aae3b",
   "metadata": {},
   "outputs": [
    {
     "data": {
      "text/plain": [
       "array([[ 0.4576494 ,  0.09059695],\n",
       "       [ 0.04290586,  0.3276323 ],\n",
       "       [ 0.22849026,  0.42746598],\n",
       "       [ 0.60990256, -0.20935944],\n",
       "       [ 0.11050479,  0.44521576],\n",
       "       [ 0.3902528 , -0.11250804],\n",
       "       [ 0.04785607,  0.3345153 ],\n",
       "       [ 0.60990256, -0.20935944],\n",
       "       [ 0.05107342,  0.31862834],\n",
       "       [ 0.19148433,  0.33743194]], dtype=float32)"
      ]
     },
     "execution_count": 94,
     "metadata": {},
     "output_type": "execute_result"
    }
   ],
   "source": [
    "reduced_mat_short"
   ]
  },
  {
   "cell_type": "code",
   "execution_count": 95,
   "id": "ad60285f",
   "metadata": {},
   "outputs": [],
   "source": [
    "from scipy.linalg import svd"
   ]
  },
  {
   "cell_type": "code",
   "execution_count": 96,
   "id": "0c01975b",
   "metadata": {},
   "outputs": [
    {
     "data": {
      "text/plain": [
       "0.000997781753540039"
      ]
     },
     "execution_count": 96,
     "metadata": {},
     "output_type": "execute_result"
    }
   ],
   "source": [
    "# compute svd long way\n",
    "start = time.time()\n",
    "U, s, VT = svd(word_matrix)\n",
    "end = time.time()\n",
    "end-start"
   ]
  },
  {
   "cell_type": "code",
   "execution_count": 97,
   "id": "461b539e",
   "metadata": {},
   "outputs": [
    {
     "data": {
      "text/plain": [
       "array([[-0.41543984,  0.09424412,  0.20058942,  0.32680166,  0.47745055,\n",
       "        -0.33016074, -0.45998228, -0.21067558, -0.28028417],\n",
       "       [-0.0389486 ,  0.34082147, -0.08689152, -0.6655946 ,  0.2791631 ,\n",
       "        -0.4347095 , -0.02107358, -0.05959602,  0.40107042],\n",
       "       [-0.20741646,  0.4446748 ,  0.42424983,  0.29156008, -0.09129842,\n",
       "        -0.01730594,  0.5953961 , -0.29498896,  0.20999365],\n",
       "       [-0.5536504 , -0.21778789, -0.097966  , -0.11393587,  0.11713022,\n",
       "         0.22560152,  0.15349817,  0.14912319,  0.11421926],\n",
       "       [-0.10031281,  0.46313906,  0.28562775, -0.41349456, -0.11180256,\n",
       "         0.5527629 , -0.26333505, -0.0201866 , -0.36753118],\n",
       "       [-0.35425913, -0.11703755, -0.13027358, -0.16629784, -0.7206371 ,\n",
       "        -0.34740764, -0.10309803, -0.36770603, -0.17415482],\n",
       "       [-0.04344256,  0.34798062, -0.5435819 ,  0.02730213,  0.12394086,\n",
       "        -0.15960842,  0.408657  ,  0.18090957, -0.5832927 ],\n",
       "       [-0.5536504 , -0.21778789, -0.097966  , -0.11393587,  0.11713023,\n",
       "         0.2256015 ,  0.15349826,  0.14912334,  0.11421906],\n",
       "       [-0.04636316,  0.33145398, -0.59676164,  0.28654218, -0.02248422,\n",
       "         0.33464894, -0.27691868, -0.34962517,  0.37194166],\n",
       "       [-0.17382367,  0.35101578,  0.05358171,  0.24027061, -0.33264166,\n",
       "        -0.19033274, -0.25038517,  0.72800314,  0.21543863]],\n",
       "      dtype=float32)"
      ]
     },
     "execution_count": 97,
     "metadata": {},
     "output_type": "execute_result"
    }
   ],
   "source": [
    "# produces U-type vectors from Martin and Berry p. 44 (different signs for some values)\n",
    "U[:, :9]"
   ]
  },
  {
   "cell_type": "code",
   "execution_count": 98,
   "id": "1848939e",
   "metadata": {},
   "outputs": [],
   "source": [
    "s_mat = np.zeros((9, 10))\n",
    "np.fill_diagonal(s_mat, s, wrap=False)"
   ]
  },
  {
   "cell_type": "code",
   "execution_count": 99,
   "id": "92cb90d2",
   "metadata": {},
   "outputs": [
    {
     "data": {
      "text/plain": [
       "array([[1.10160184, 0.        , 0.        , 0.        , 0.        ,\n",
       "        0.        , 0.        , 0.        , 0.        , 0.        ],\n",
       "       [0.        , 0.96130133, 0.        , 0.        , 0.        ,\n",
       "        0.        , 0.        , 0.        , 0.        , 0.        ],\n",
       "       [0.        , 0.        , 0.85962135, 0.        , 0.        ,\n",
       "        0.        , 0.        , 0.        , 0.        , 0.        ],\n",
       "       [0.        , 0.        , 0.        , 0.763798  , 0.        ,\n",
       "        0.        , 0.        , 0.        , 0.        , 0.        ],\n",
       "       [0.        , 0.        , 0.        , 0.        , 0.6581133 ,\n",
       "        0.        , 0.        , 0.        , 0.        , 0.        ],\n",
       "       [0.        , 0.        , 0.        , 0.        , 0.        ,\n",
       "        0.47367984, 0.        , 0.        , 0.        , 0.        ],\n",
       "       [0.        , 0.        , 0.        , 0.        , 0.        ,\n",
       "        0.        , 0.27326408, 0.        , 0.        , 0.        ],\n",
       "       [0.        , 0.        , 0.        , 0.        , 0.        ,\n",
       "        0.        , 0.        , 0.16535826, 0.        , 0.        ],\n",
       "       [0.        , 0.        , 0.        , 0.        , 0.        ,\n",
       "        0.        , 0.        , 0.        , 0.06931535, 0.        ]])"
      ]
     },
     "execution_count": 99,
     "metadata": {},
     "output_type": "execute_result"
    }
   ],
   "source": [
    "# produces singular values from Martin and Berry p. 44\n",
    "s_mat"
   ]
  },
  {
   "cell_type": "code",
   "execution_count": 100,
   "id": "d1f4bd1d",
   "metadata": {},
   "outputs": [
    {
     "data": {
      "text/plain": [
       "array([[-0.07400344,  0.38246807, -0.5326035 ,  0.27086723, -0.08024473,\n",
       "         0.1156444 , -0.19694234,  0.50221187,  0.42472392],\n",
       "       [-0.17291169,  0.5414949 ,  0.40777543,  0.0047267 , -0.27573416,\n",
       "         0.43357262,  0.34217477,  0.22189537, -0.28327692],\n",
       "       [-0.05998285,  0.39682254,  0.10969584, -0.6703478 ,  0.12066288,\n",
       "         0.11825373, -0.49383453, -0.22893037,  0.22958563],\n",
       "       [-0.03363708,  0.28905606, -0.54854923,  0.19039299,  0.04905889,\n",
       "         0.21843734,  0.03745957, -0.62405676, -0.37038845],\n",
       "       [-0.03044353,  0.2936798 , -0.26711744, -0.40108994,  0.26653904,\n",
       "        -0.5522268 ,  0.48169783,  0.20816092, -0.17099503],\n",
       "       [-0.3086438 ,  0.35941407,  0.36083716,  0.46461082,  0.14910246,\n",
       "        -0.45084912,  0.0007252 , -0.3246995 ,  0.31395403],\n",
       "       [-0.19295326,  0.03564385, -0.05596112, -0.02283265, -0.6488651 ,\n",
       "        -0.45079023, -0.41341648,  0.07116263, -0.39702702],\n",
       "       [-0.65587693, -0.16847597,  0.00257059,  0.06145695,  0.51312613,\n",
       "         0.12124776, -0.2656377 ,  0.25127858, -0.35489962],\n",
       "       [-0.6295251 , -0.27276137, -0.18005536, -0.24486464, -0.3506655 ,\n",
       "         0.10397141,  0.35404024, -0.19930884,  0.37158546]],\n",
       "      dtype=float32)"
      ]
     },
     "execution_count": 100,
     "metadata": {},
     "output_type": "execute_result"
    }
   ],
   "source": [
    "# produces V-document vectors from Martin and Berry p.44 (different signs)\n",
    "np.transpose(VT)"
   ]
  },
  {
   "cell_type": "code",
   "execution_count": 101,
   "id": "94e7db4a",
   "metadata": {},
   "outputs": [],
   "source": [
    "# reduce matrix to 2 dimensions\n",
    "reduced_mat_long = U[:, :2] @ s_mat[:2, :2]"
   ]
  },
  {
   "cell_type": "code",
   "execution_count": 102,
   "id": "9ff41275",
   "metadata": {},
   "outputs": [
    {
     "data": {
      "text/plain": [
       "array([[-0.4576493 ,  0.090597  ],\n",
       "       [-0.04290584,  0.32763214],\n",
       "       [-0.22849035,  0.42746647],\n",
       "       [-0.60990228, -0.20935979],\n",
       "       [-0.11050477,  0.44521619],\n",
       "       [-0.39025251, -0.11250835],\n",
       "       [-0.04785641,  0.33451423],\n",
       "       [-0.60990228, -0.20935979],\n",
       "       [-0.05107374,  0.31862715],\n",
       "       [-0.19148447,  0.33743193]])"
      ]
     },
     "execution_count": 102,
     "metadata": {},
     "output_type": "execute_result"
    }
   ],
   "source": [
    "# reduced matrix produced long way\n",
    "reduced_mat_long"
   ]
  },
  {
   "cell_type": "code",
   "execution_count": 103,
   "id": "d06a4a55",
   "metadata": {},
   "outputs": [
    {
     "data": {
      "text/plain": [
       "array([[ 0.4576494 ,  0.09059695],\n",
       "       [ 0.04290586,  0.3276323 ],\n",
       "       [ 0.22849026,  0.42746598],\n",
       "       [ 0.60990256, -0.20935944],\n",
       "       [ 0.11050479,  0.44521576],\n",
       "       [ 0.3902528 , -0.11250804],\n",
       "       [ 0.04785607,  0.3345153 ],\n",
       "       [ 0.60990256, -0.20935944],\n",
       "       [ 0.05107342,  0.31862834],\n",
       "       [ 0.19148433,  0.33743194]], dtype=float32)"
      ]
     },
     "execution_count": 103,
     "metadata": {},
     "output_type": "execute_result"
    }
   ],
   "source": [
    "# reduced matrix produced short way\n",
    "reduced_mat_short"
   ]
  },
  {
   "cell_type": "code",
   "execution_count": 104,
   "id": "84bfb0e1",
   "metadata": {},
   "outputs": [],
   "source": [
    "normalized_long = normalize_matrix(reduced_mat_long)"
   ]
  },
  {
   "cell_type": "code",
   "execution_count": 105,
   "id": "de034485",
   "metadata": {},
   "outputs": [],
   "source": [
    "normalized_short = normalize_matrix(reduced_mat_short)"
   ]
  },
  {
   "cell_type": "code",
   "execution_count": 106,
   "id": "60e2649e",
   "metadata": {},
   "outputs": [
    {
     "data": {
      "text/plain": [
       "array([[ 1.        ,  0.3199258 ,  0.63369264,  0.86477231,  0.42478386,\n",
       "         0.88877995,  0.33116032,  0.86477231,  0.34700508,  0.65304338],\n",
       "       [ 0.3199258 ,  1.        ,  0.93566194, -0.19910876,  0.99361418,\n",
       "        -0.14990166,  0.99992941, -0.19910876,  0.99958747,  0.92644313],\n",
       "       [ 0.63369264,  0.93566194,  1.        ,  0.15953321,  0.96950482,\n",
       "         0.20865292,  0.93978887,  0.15953321,  0.94541144,  0.99968051],\n",
       "       [ 0.86477231, -0.19910876,  0.15953321,  1.        , -0.0872653 ,\n",
       "         0.99875128, -0.18745104,  1.        , -0.17088094,  0.1844346 ],\n",
       "       [ 0.42478386,  0.99361418,  0.96950482, -0.0872653 ,  1.        ,\n",
       "        -0.03738815,  0.99488465, -0.0872653 ,  0.99644488,  0.9630006 ],\n",
       "       [ 0.88877995, -0.14990166,  0.20865292,  0.99875128, -0.03738815,\n",
       "         1.        , -0.13814377,  0.99875128, -0.1214436 ,  0.23330601],\n",
       "       [ 0.33116032,  0.99992941,  0.93978887, -0.18745104,  0.99488465,\n",
       "        -0.13814377,  1.        , -0.18745104,  0.99985816,  0.93085037],\n",
       "       [ 0.86477231, -0.19910876,  0.15953321,  1.        , -0.0872653 ,\n",
       "         0.99875128, -0.18745104,  1.        , -0.17088094,  0.1844346 ],\n",
       "       [ 0.34700508,  0.99958747,  0.94541144, -0.17088094,  0.99644488,\n",
       "        -0.1214436 ,  0.99985816, -0.17088094,  1.        ,  0.93687244],\n",
       "       [ 0.65304338,  0.92644313,  0.99968051,  0.1844346 ,  0.9630006 ,\n",
       "         0.23330601,  0.93085037,  0.1844346 ,  0.93687244,  1.        ]])"
      ]
     },
     "execution_count": 106,
     "metadata": {},
     "output_type": "execute_result"
    }
   ],
   "source": [
    "#cosine matrix long svd version\n",
    "normalized_long @ np.transpose(normalized_long)"
   ]
  },
  {
   "cell_type": "code",
   "execution_count": 107,
   "id": "f1cd66bf",
   "metadata": {},
   "outputs": [
    {
     "data": {
      "text/plain": [
       "array([[ 1.        ,  0.31992564,  0.6336928 ,  0.8647727 ,  0.42478395,\n",
       "         0.8887805 ,  0.33115882,  0.8647727 ,  0.34700346,  0.65304303],\n",
       "       [ 0.31992564,  1.        ,  0.9356618 , -0.19910811,  0.99361414,\n",
       "        -0.14990078,  0.9999294 , -0.19910811,  0.9995875 ,  0.9264433 ],\n",
       "       [ 0.6336928 ,  0.9356618 ,  1.        ,  0.15953416,  0.96950483,\n",
       "         0.20865415,  0.9397883 ,  0.15953416,  0.94541085,  0.9996806 ],\n",
       "       [ 0.8647727 , -0.19910811,  0.15953416,  0.9999999 , -0.08726436,\n",
       "         0.9987513 , -0.18745178,  0.9999999 , -0.17088184,  0.18443495],\n",
       "       [ 0.42478395,  0.99361414,  0.96950483, -0.08726436,  1.        ,\n",
       "        -0.03738695,  0.9948845 , -0.08726436,  0.9964447 ,  0.96300083],\n",
       "       [ 0.8887805 , -0.14990078,  0.20865415,  0.9987513 , -0.03738695,\n",
       "         1.0000001 , -0.13814425,  0.9987513 , -0.12144426,  0.23330662],\n",
       "       [ 0.33115882,  0.9999294 ,  0.9397883 , -0.18745178,  0.9948845 ,\n",
       "        -0.13814425,  0.99999994, -0.18745178,  0.99985814,  0.93085   ],\n",
       "       [ 0.8647727 , -0.19910811,  0.15953416,  0.9999999 , -0.08726436,\n",
       "         0.9987513 , -0.18745178,  0.9999999 , -0.17088184,  0.18443495],\n",
       "       [ 0.34700346,  0.9995875 ,  0.94541085, -0.17088184,  0.9964447 ,\n",
       "        -0.12144426,  0.99985814, -0.17088184,  1.        ,  0.93687207],\n",
       "       [ 0.65304303,  0.9264433 ,  0.9996806 ,  0.18443495,  0.96300083,\n",
       "         0.23330662,  0.93085   ,  0.18443495,  0.93687207,  1.        ]],\n",
       "      dtype=float32)"
      ]
     },
     "execution_count": 107,
     "metadata": {},
     "output_type": "execute_result"
    }
   ],
   "source": [
    "#cosine matrix short svd version\n",
    "normalized_short @ np.transpose(normalized_short)"
   ]
  },
  {
   "cell_type": "code",
   "execution_count": null,
   "id": "297a088a",
   "metadata": {},
   "outputs": [],
   "source": []
  }
 ],
 "metadata": {
  "kernelspec": {
   "display_name": "Python 3",
   "language": "python",
   "name": "python3"
  },
  "language_info": {
   "codemirror_mode": {
    "name": "ipython",
    "version": 3
   },
   "file_extension": ".py",
   "mimetype": "text/x-python",
   "name": "python",
   "nbconvert_exporter": "python",
   "pygments_lexer": "ipython3",
   "version": "3.8.8"
  }
 },
 "nbformat": 4,
 "nbformat_minor": 5
}
